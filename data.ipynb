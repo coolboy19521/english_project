{
 "cells": [
  {
   "cell_type": "code",
   "execution_count": 7,
   "metadata": {},
   "outputs": [],
   "source": [
    "from csv import reader\n",
    "from docx import Document"
   ]
  },
  {
   "cell_type": "code",
   "execution_count": 17,
   "metadata": {},
   "outputs": [],
   "source": [
    "document = Document()\n",
    "\n",
    "with open('data.csv', 'r') as read_dest:\n",
    "    rows = reader(read_dest.readlines())\n",
    "\n",
    "    for row in rows:\n",
    "        header = document.add_heading(f'{row[0]}) {row[1]}', level=1)\n",
    "        header.alignment = 1\n",
    "\n",
    "        document.add_paragraph()\n",
    "        \n",
    "        paragraph = document.add_paragraph()\n",
    "        run = paragraph.add_run()\n",
    "\n",
    "        table = document.add_table(2, 2)\n",
    "\n",
    "        table.cell(0,0).text = f'A) {row[2]}'\n",
    "        table.cell(0,1).text = f'B) {row[3]}'\n",
    "\n",
    "        table.cell(1,0).text = f'C) {row[4]}'\n",
    "        table.cell(1,1).text = f'D) {row[5]}'\n",
    "\n",
    "\n",
    "        document.add_page_break()\n",
    "\n",
    "document.save('questions.docx')\n"
   ]
  }
 ],
 "metadata": {
  "kernelspec": {
   "display_name": "Python 3",
   "language": "python",
   "name": "python3"
  },
  "language_info": {
   "codemirror_mode": {
    "name": "ipython",
    "version": 3
   },
   "file_extension": ".py",
   "mimetype": "text/x-python",
   "name": "python",
   "nbconvert_exporter": "python",
   "pygments_lexer": "ipython3",
   "version": "3.10.6"
  },
  "orig_nbformat": 4
 },
 "nbformat": 4,
 "nbformat_minor": 2
}
