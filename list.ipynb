{
 "cells": [
  {
   "cell_type": "code",
   "execution_count": 1,
   "metadata": {},
   "outputs": [],
   "source": [
    "from csv import reader\n",
    "from docx import Document"
   ]
  },
  {
   "cell_type": "code",
   "execution_count": 5,
   "metadata": {},
   "outputs": [],
   "source": [
    "document = Document()\n",
    "\n",
    "header = document.add_heading('Answers', level=1)\n",
    "header.alignment = 1\n",
    "\n",
    "with open('data.csv', 'r') as read_dest:\n",
    "    rows = reader(read_dest.readlines())\n",
    "\n",
    "    for row in rows:\n",
    "        document.add_paragraph(f\"{row[0]}. {['A', 'B', 'C', 'D'][int(row[6])]}\")\n",
    "\n",
    "document.save('answers.docx')"
   ]
  }
 ],
 "metadata": {
  "kernelspec": {
   "display_name": "Python 3",
   "language": "python",
   "name": "python3"
  },
  "language_info": {
   "codemirror_mode": {
    "name": "ipython",
    "version": 3
   },
   "file_extension": ".py",
   "mimetype": "text/x-python",
   "name": "python",
   "nbconvert_exporter": "python",
   "pygments_lexer": "ipython3",
   "version": "3.10.6"
  },
  "orig_nbformat": 4
 },
 "nbformat": 4,
 "nbformat_minor": 2
}
